{
  "nbformat": 4,
  "nbformat_minor": 0,
  "metadata": {
    "colab": {
      "provenance": [],
      "authorship_tag": "ABX9TyM43h1hoDdkiJDTYraC5ei9",
      "include_colab_link": true
    },
    "kernelspec": {
      "name": "python3",
      "display_name": "Python 3"
    },
    "language_info": {
      "name": "python"
    }
  },
  "cells": [
    {
      "cell_type": "markdown",
      "metadata": {
        "id": "view-in-github",
        "colab_type": "text"
      },
      "source": [
        "<a href=\"https://colab.research.google.com/github/schittap/mathematicalfinance/blob/main/put_call_parity.ipynb\" target=\"_parent\"><img src=\"https://colab.research.google.com/assets/colab-badge.svg\" alt=\"Open In Colab\"/></a>"
      ]
    },
    {
      "cell_type": "code",
      "execution_count": 3,
      "metadata": {
        "colab": {
          "base_uri": "https://localhost:8080/"
        },
        "id": "bj61f3QvtV8i",
        "outputId": "377574e1-d066-46a7-8426-610a913ba390"
      },
      "outputs": [
        {
          "output_type": "stream",
          "name": "stdout",
          "text": [
            "European or American? American\n",
            "Initial price of put option in USD: 4.62\n",
            "Initial price of call option in USD: 3.97\n",
            "Strike price of put option in USD: 4\n",
            "Initial spot price of each share in USD: 5.13\n",
            "Enter risk-free interest rate as a %: 5\n",
            "Months until you buy the stock (0 if immediately): 2\n",
            "Months until the stock's maturity date: 12\n",
            "Dividend yield as a % of stock price: 3.5\n",
            "The put-call parity is not satisfied.\n"
          ]
        }
      ],
      "source": [
        "# Put-call parity satisfied?\n",
        "# Continuously compounded case\n",
        "\n",
        "import math\n",
        "\n",
        "option_type = str(input(\"European or American? \"))\n",
        "while ((option_type != \"European\") & (option_type != \"American\")):\n",
        "  option_type = str(input(\"Try again, European or American? \"))\n",
        "  if (option_type == \"European\" or option_type == \"American\"):\n",
        "    break\n",
        "\n",
        "put_premium = float(input(\"Initial price of put option in USD: \"))\n",
        "call_premium = float(input(\"Initial price of call option in USD: \"))\n",
        "strike_price = float(input(\"Strike price of put option in USD: \"))\n",
        "spot_price = float(input(\"Initial spot price of each share in USD: \"))\n",
        "risk_free_ir = float(input(\"Enter risk-free interest rate as a %: \"))\n",
        "initial = float(input(\"Months until you buy the stock (0 if immediately): \"))\n",
        "maturity = float(input(\"Months until the stock's maturity date: \"))\n",
        "dividend_yield = float(input(\"Dividend yield as a % of stock price: \"))\n",
        "\n",
        "if (option_type == \"European\"):\n",
        "  lhs = call_premium - put_premium\n",
        "  rhs = ((1 - (dividend_yield / 100)) * spot_price) - (strike_price *\n",
        "                                                       math.exp((-1 *\n",
        "                                                        (risk_free_ir / 100)) *\n",
        "                                                         ((maturity / 12) -\n",
        "                                                          (initial / 12))))\n",
        "  if (lhs == rhs):\n",
        "    print(\"The put-call parity is satisfied!\")\n",
        "  else:\n",
        "    print(\"The put-call parity is not satisfied.\")\n",
        "\n",
        "else: # American\n",
        "  lower_bound = ((1 - (dividend_yield / 100)) * spot_price) - strike_price\n",
        "  upper_bound = spot_price - (strike_price * math.exp((-1 * risk_free_ir *\n",
        "                                                       ((maturity / 12) -\n",
        "                                                        (initial / 12)))))\n",
        "  bounded_expression = call_premium - put_premium\n",
        "\n",
        "  if (lower_bound <= bounded_expression and upper_bound >= bounded_expression):\n",
        "    print(\"The put-call parity is satisfied!\")\n",
        "  else:\n",
        "    print(\"The put-call parity is not satisfied.\")"
      ]
    },
    {
      "cell_type": "code",
      "source": [],
      "metadata": {
        "id": "CWDsEaYIy54U"
      },
      "execution_count": null,
      "outputs": []
    }
  ]
}