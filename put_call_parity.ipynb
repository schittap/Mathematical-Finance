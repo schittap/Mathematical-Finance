{
  "nbformat": 4,
  "nbformat_minor": 0,
  "metadata": {
    "colab": {
      "provenance": [],
      "authorship_tag": "ABX9TyM7yMid9t5a0Pi0jyDWO9fk",
      "include_colab_link": true
    },
    "kernelspec": {
      "name": "python3",
      "display_name": "Python 3"
    },
    "language_info": {
      "name": "python"
    }
  },
  "cells": [
    {
      "cell_type": "markdown",
      "metadata": {
        "id": "view-in-github",
        "colab_type": "text"
      },
      "source": [
        "<a href=\"https://colab.research.google.com/github/schittap/mathematicalfinance/blob/main/put_call_parity.ipynb\" target=\"_parent\"><img src=\"https://colab.research.google.com/assets/colab-badge.svg\" alt=\"Open In Colab\"/></a>"
      ]
    },
    {
      "cell_type": "code",
      "execution_count": null,
      "metadata": {
        "id": "bj61f3QvtV8i"
      },
      "outputs": [],
      "source": [
        "# Put-call parity satisfied?\n",
        "# Continuously compounded\n",
        "option_type = str(input(\"European or American? \"))\n",
        "while ((option_type != \"European\") & (option_type != \"American\")):\n",
        "  option_type = str(input(\"Try again, European or American? \"))\n",
        "  if (option_type == \"European\" or option_type == \"American\"):\n",
        "    break\n",
        "\n",
        "put_premium = float(input(\"Price of put option in USD: \"))\n",
        "strike_price = float(input(\"Strike price of put option in USD: \"))\n",
        "spot_price = float(input(\"Spot price of each share in USD: \"))\n",
        "risk_free_ir = float(input(\"Enter risk-free interest rate as a decimal: \"))\n",
        "initial = float(input(\"\"))\n"
      ]
    },
    {
      "cell_type": "code",
      "source": [],
      "metadata": {
        "id": "CWDsEaYIy54U"
      },
      "execution_count": null,
      "outputs": []
    }
  ]
}