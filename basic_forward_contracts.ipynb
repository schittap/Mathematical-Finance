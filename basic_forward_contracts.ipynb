{
  "nbformat": 4,
  "nbformat_minor": 0,
  "metadata": {
    "colab": {
      "provenance": []
    },
    "kernelspec": {
      "name": "python3",
      "display_name": "Python 3"
    },
    "language_info": {
      "name": "python"
    }
  },
  "cells": [
    {
      "cell_type": "code",
      "execution_count": 14,
      "metadata": {
        "colab": {
          "base_uri": "https://localhost:8080/"
        },
        "id": "Zxj9A8TBRZmW",
        "outputId": "59138974-35d4-42fd-cc7a-1589747043fd"
      },
      "outputs": [
        {
          "output_type": "stream",
          "name": "stdout",
          "text": [
            "What is your asset position? 1 for long, 0 for short: 4\n",
            "Try again, 1 for long, 0 for short: 2\n",
            "Try again, 1 for long, 0 for short: 0\n",
            "Price of forward contract in USD: 4.50\n",
            "Spot price of asset in USD: 3.48\n",
            "You incurred a profit of $1.02\n"
          ]
        }
      ],
      "source": [
        "# Domestic Forward Contract P&L at Maturity Date\n",
        "position = int(input(\"What is your asset position? 1 for long, 0 for short: \"))\n",
        "while (position != 1 and position != 0):\n",
        "  position = int(input(\"Try again, 1 for long, 0 for short: \"))\n",
        "  if (position == 1 or position == 0):\n",
        "    break\n",
        "\n",
        "forward_price = float(input(\"Price of forward contract in USD: \"))\n",
        "spot_price = float(input(\"Spot price of asset in USD: \"))\n",
        "spot_minus_forward = abs(spot_price - forward_price)\n",
        "forward_minus_spot = abs(-1 * (spot_price - forward_price))\n",
        "\n",
        "if (position == 1):\n",
        "    if (spot_price > forward_price) :\n",
        "        print(\"You incurred a profit of $\" + str(spot_minus_forward))\n",
        "    elif (spot_price < forward_price) :\n",
        "        print(\"You lost $\" + str(forward_minus_spot))\n",
        "    else :\n",
        "        print(\"No profit or loss\")\n",
        "else :\n",
        "    if (spot_price > forward_price) :\n",
        "        print(\"You lost $\" + str(spot_minus_forward))\n",
        "    elif (spot_price < forward_price) :\n",
        "        print(\"You incurred a profit of $\" + str(forward_minus_spot))\n",
        "    else :\n",
        "        print(\"No profit or loss\")"
      ]
    }
  ]
}
