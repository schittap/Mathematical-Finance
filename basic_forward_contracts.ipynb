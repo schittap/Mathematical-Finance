{
  "nbformat": 4,
  "nbformat_minor": 0,
  "metadata": {
    "colab": {
      "provenance": [],
      "authorship_tag": "ABX9TyO/mgXFc5RVpAAVsY5kTcsO",
      "include_colab_link": true
    },
    "kernelspec": {
      "name": "python3",
      "display_name": "Python 3"
    },
    "language_info": {
      "name": "python"
    }
  },
  "cells": [
    {
      "cell_type": "markdown",
      "metadata": {
        "id": "view-in-github",
        "colab_type": "text"
      },
      "source": [
        "<a href=\"https://colab.research.google.com/github/schittapuram/mathematicalfinance/blob/main/basic_forward_contracts.ipynb\" target=\"_parent\"><img src=\"https://colab.research.google.com/assets/colab-badge.svg\" alt=\"Open In Colab\"/></a>"
      ]
    },
    {
      "cell_type": "code",
      "execution_count": null,
      "metadata": {
        "colab": {
          "base_uri": "https://localhost:8080/",
          "height": 251
        },
        "id": "Zxj9A8TBRZmW",
        "outputId": "a50e705a-4f88-426a-fbe8-416121b7b635"
      },
      "outputs": [
        {
          "name": "stdout",
          "output_type": "stream",
          "text": [
            "What is your asset position? 1 for long, 0 for short: 1.2\n",
            "Try again, 1 for long, 0 for short: 1.0\n"
          ]
        },
        {
          "output_type": "error",
          "ename": "ValueError",
          "evalue": "invalid literal for int() with base 10: '1.0'",
          "traceback": [
            "\u001b[0;31m---------------------------------------------------------------------------\u001b[0m",
            "\u001b[0;31mValueError\u001b[0m                                Traceback (most recent call last)",
            "\u001b[0;32m/tmp/ipython-input-13-1214321591.py\u001b[0m in \u001b[0;36m<cell line: 0>\u001b[0;34m()\u001b[0m\n\u001b[1;32m      2\u001b[0m \u001b[0mposition\u001b[0m \u001b[0;34m=\u001b[0m \u001b[0mfloat\u001b[0m\u001b[0;34m(\u001b[0m\u001b[0minput\u001b[0m\u001b[0;34m(\u001b[0m\u001b[0;34m\"What is your asset position? 1 for long, 0 for short: \"\u001b[0m\u001b[0;34m)\u001b[0m\u001b[0;34m)\u001b[0m\u001b[0;34m\u001b[0m\u001b[0;34m\u001b[0m\u001b[0m\n\u001b[1;32m      3\u001b[0m \u001b[0;32mwhile\u001b[0m \u001b[0;34m(\u001b[0m\u001b[0mposition\u001b[0m \u001b[0;34m!=\u001b[0m \u001b[0;36m1\u001b[0m \u001b[0;32mand\u001b[0m \u001b[0mposition\u001b[0m \u001b[0;34m!=\u001b[0m \u001b[0;36m0\u001b[0m\u001b[0;34m)\u001b[0m\u001b[0;34m:\u001b[0m\u001b[0;34m\u001b[0m\u001b[0;34m\u001b[0m\u001b[0m\n\u001b[0;32m----> 4\u001b[0;31m   \u001b[0mposition\u001b[0m \u001b[0;34m=\u001b[0m \u001b[0mint\u001b[0m\u001b[0;34m(\u001b[0m\u001b[0minput\u001b[0m\u001b[0;34m(\u001b[0m\u001b[0;34m\"Try again, 1 for long, 0 for short: \"\u001b[0m\u001b[0;34m)\u001b[0m\u001b[0;34m)\u001b[0m\u001b[0;34m\u001b[0m\u001b[0;34m\u001b[0m\u001b[0m\n\u001b[0m\u001b[1;32m      5\u001b[0m   \u001b[0;32mif\u001b[0m \u001b[0;34m(\u001b[0m\u001b[0mposition\u001b[0m \u001b[0;34m==\u001b[0m \u001b[0;36m1\u001b[0m \u001b[0;32mor\u001b[0m \u001b[0mposition\u001b[0m \u001b[0;34m==\u001b[0m \u001b[0;36m0\u001b[0m\u001b[0;34m)\u001b[0m\u001b[0;34m:\u001b[0m\u001b[0;34m\u001b[0m\u001b[0;34m\u001b[0m\u001b[0m\n\u001b[1;32m      6\u001b[0m     \u001b[0;32mbreak\u001b[0m\u001b[0;34m\u001b[0m\u001b[0;34m\u001b[0m\u001b[0m\n",
            "\u001b[0;31mValueError\u001b[0m: invalid literal for int() with base 10: '1.0'"
          ]
        }
      ],
      "source": [
        "# Domestic Forward Contract P&L at Maturity Date\n",
        "position = float(input(\"What is your asset position? 1 for long, 0 for short: \"))\n",
        "while (position != 1 and position != 0):\n",
        "  position = float(input(\"Try again, 1 for long, 0 for short: \"))\n",
        "  if (position == 1 or position == 0):\n",
        "    break\n",
        "\n",
        "forward_price = float(input(\"Price of forward contract in USD: \"))\n",
        "spot_price = float(input(\"Spot price of asset in USD: \"))\n",
        "spot_minus_forward = spot_price - forward_price\n",
        "forward_minus_spot = forward_price - spot_price\n",
        "\n",
        "if (position == 1):\n",
        "    if (spot_price > forward_price):\n",
        "        print(\"You incurred a profit of $\" +\n",
        "              str(round(abs(spot_minus_forward), 2)) + \".\")\n",
        "    elif (spot_price < forward_price):\n",
        "        print(\"You lost $\" + str(round(abs(forward_minus_spot), 2)) + \".\")\n",
        "    else:\n",
        "        print(\"No profit or loss.\")\n",
        "else :\n",
        "    if (spot_price > forward_price):\n",
        "        print(\"You lost $\" + str(round(abs(spot_minus_forward), 2)) + \".\")\n",
        "    elif (spot_price < forward_price):\n",
        "        print(\"You incurred a profit of $\" +\n",
        "              str(round(abs(forward_minus_spot), 2)) + \".\")\n",
        "    else:\n",
        "        print(\"No profit or loss.\")"
      ]
    }
  ]
}