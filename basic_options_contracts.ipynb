{
  "nbformat": 4,
  "nbformat_minor": 0,
  "metadata": {
    "colab": {
      "provenance": [],
      "authorship_tag": "ABX9TyNecRbGH6NvdzSQY31up9uD",
      "include_colab_link": true
    },
    "kernelspec": {
      "name": "python3",
      "display_name": "Python 3"
    },
    "language_info": {
      "name": "python"
    }
  },
  "cells": [
    {
      "cell_type": "markdown",
      "metadata": {
        "id": "view-in-github",
        "colab_type": "text"
      },
      "source": [
        "<a href=\"https://colab.research.google.com/github/schittapuram/mathematicalfinance/blob/main/basic_options_contracts.ipynb\" target=\"_parent\"><img src=\"https://colab.research.google.com/assets/colab-badge.svg\" alt=\"Open In Colab\"/></a>"
      ]
    },
    {
      "cell_type": "code",
      "execution_count": 19,
      "metadata": {
        "id": "JfZnPPsXVGQp",
        "colab": {
          "base_uri": "https://localhost:8080/"
        },
        "outputId": "68fbe757-b8e1-4d05-c534-27815a2cdeb0"
      },
      "outputs": [
        {
          "output_type": "stream",
          "name": "stdout",
          "text": [
            "What is your asset position? 1 for long, 0 for short: 2\n",
            "Try again, 1 for long, 0 for short: 0\n",
            "Price of put option in USD: 5.23\n",
            "Strike price of put option in USD: 6\n",
            "Number of shares: 100\n",
            "Spot price of each share in USD: 4.92\n",
            "Exercise the option! You will gain $108.00 and your total profit is $113.23.\n"
          ]
        }
      ],
      "source": [
        "# European options, so the contract is exercised exactly at maturity\n",
        "# Put option, choice to exercise Y no. of options at strike price K\n",
        "# Given: spot price, strike price, put premium, outputs profit/loss and payoff\n",
        "\n",
        "position = float(input(\"What is your asset position? 1 for long, 0 for short: \"))\n",
        "while (position != 1 and position != 0):\n",
        "  position = float(input(\"Try again, 1 for long, 0 for short: \"))\n",
        "  if (position == 1 or position == 0):\n",
        "    break\n",
        "\n",
        "put_premium = float(input(\"Price of put option in USD: \"))\n",
        "strike_price = float(input(\"Strike price of put option in USD: \"))\n",
        "Y = float(input(\"Number of shares: \"))\n",
        "spot_price = float(input(\"Spot price of each share in USD: \"))\n",
        "\n",
        "if (position == 1):\n",
        "  if (spot_price < strike_price):\n",
        "    gain = Y * (spot_price - strike_price)\n",
        "    print(\"Exercise the option! You will gain $\" +\n",
        "          str(format(gain, \".2f\")) + \" and your total profit is $\" +\n",
        "          str(format(gain - put_premium, \".2f\")) + \".\")\n",
        "  else:\n",
        "    print(\"Do not exercise the option! You are left with a total loss of $\" +\n",
        "          str(format(put_premium, \".2f\")) + \" with no gain.\")\n",
        "else:\n",
        "  if (spot_price < strike_price):\n",
        "    gain = Y * (spot_price - strike_price)\n",
        "    print(\"Exercise the option! You will gain $\" +\n",
        "          str(format(-1 * gain, \".2f\")) + \" and your total profit is $\" +\n",
        "          str(format(put_premium - gain, \".2f\")) + \".\")\n",
        "  else:\n",
        "    print(\"Do not exercise the option! You are left with a total profit of $\" +\n",
        "          str(format(put_premium, \".2f\")) + \" with no gain.\")"
      ]
    },
    {
      "cell_type": "code",
      "source": [
        "# Call option, choice to sell Y no. of options at strike price K\n",
        "# Given: spot price, strike price, call premium, outputs profit/loss and payoff\n",
        "\n",
        "position = int(input(\"What is your asset position? 1 for long, 0 for short: \"))\n",
        "while (position != 1 and position != 0):\n",
        "  position = float(input(\"Try again, 1 for long, 0 for short: \"))\n",
        "  if (position == 1 or position == 0):\n",
        "    break\n",
        "\n",
        "call_premium = float(input(\"Price of call option in USD: \"))\n",
        "strike_price = float(input(\"Strike price of call option in USD: \"))\n",
        "Y = float(input(\"Number of shares: \"))\n",
        "spot_price = float(input(\"Spot price of each asset in USD: \"))\n",
        "\n",
        "if (position == 1):\n",
        "  if (spot_price > strike_price):\n",
        "    gain = Y * (spot_price - strike_price)\n",
        "    print(\"Exercise the option! You will gain $\" +\n",
        "          str(format(gain, \".2f\")) +\n",
        "          \" for a total profit of $\" + str(format(gain - call_premium, \".2f\"))\n",
        "          + \".\")\n",
        "  else:\n",
        "    print(\"Do not exercise the option! You are left with a total loss of $\"\n",
        "            + str(format(call_premium, \".2f\")) + \" with no gain.\")\n",
        "else:\n",
        "  if (spot_price > strike_price):\n",
        "    gain = Y * (strike_price - spot_price)\n",
        "    print(\"Exercise the option! You will gain $\" +\n",
        "          str(format(-1 * gain, \".2f\") + \" and your total profit is $\" +\n",
        "              str(format(call_premium - gain, \".2f\")) + \".\"))\n",
        "  else:\n",
        "    print(\"Do not exercise the option! You are left with a total profit of $\" +\n",
        "          str(format(call_premium, \".2f\")) + \" with no gain.\")"
      ],
      "metadata": {
        "id": "7Xfzfr90Vmal",
        "colab": {
          "base_uri": "https://localhost:8080/"
        },
        "outputId": "9feff1a9-cc0d-4503-9f7b-c1b961da9608"
      },
      "execution_count": 20,
      "outputs": [
        {
          "output_type": "stream",
          "name": "stdout",
          "text": [
            "What is your asset position? 1 for long, 0 for short: 1\n",
            "Price of call option in USD: 10.36\n",
            "Strike price of call option in USD: 9.23\n",
            "Number of shares: 100\n",
            "Spot price of each asset in USD: 10.68\n",
            "Exercise the option! You will gain $145.00 for a total profit of $134.64.\n"
          ]
        }
      ]
    }
  ]
}