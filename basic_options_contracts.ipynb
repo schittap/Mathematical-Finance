{
  "nbformat": 4,
  "nbformat_minor": 0,
  "metadata": {
    "colab": {
      "provenance": [],
      "authorship_tag": "ABX9TyNe2Bzqq7NAs0Z7xLnQouMR",
      "include_colab_link": true
    },
    "kernelspec": {
      "name": "python3",
      "display_name": "Python 3"
    },
    "language_info": {
      "name": "python"
    }
  },
  "cells": [
    {
      "cell_type": "markdown",
      "metadata": {
        "id": "view-in-github",
        "colab_type": "text"
      },
      "source": [
        "<a href=\"https://colab.research.google.com/github/schittap/mathematicalfinance/blob/main/basic_options_contracts.ipynb\" target=\"_parent\"><img src=\"https://colab.research.google.com/assets/colab-badge.svg\" alt=\"Open In Colab\"/></a>"
      ]
    },
    {
      "cell_type": "code",
      "execution_count": 1,
      "metadata": {
        "id": "JfZnPPsXVGQp",
        "colab": {
          "base_uri": "https://localhost:8080/"
        },
        "outputId": "032d6bf9-d81b-4169-c39c-6b881f10fadc"
      },
      "outputs": [
        {
          "output_type": "stream",
          "name": "stdout",
          "text": [
            "What is your asset position? 1 for long, 0 for short: 2\n",
            "Try again, 1 for long, 0 for short: 0\n",
            "Price of put option in USD: 5.23\n",
            "Strike price of put option in USD: 6\n",
            "Number of contracts (1 contract = 100 shares): 3\n",
            "Spot price of each share in USD: 4.92\n",
            "Exercise the option! You will gain $324.00 and your total profit is $339.69.\n"
          ]
        }
      ],
      "source": [
        "# European options, so the contract is exercised exactly at maturity\n",
        "# Put option, choice to exercise Y no. of options at strike price K\n",
        "# Given: spot price, strike price, put premium, outputs profit/loss and payoff\n",
        "\n",
        "position = float(input(\"What is your asset position? 1 for long, 0 for short: \"))\n",
        "while (position != 1 and position != 0):\n",
        "  position = float(input(\"Try again, 1 for long, 0 for short: \"))\n",
        "  if (position == 1 or position == 0):\n",
        "    break\n",
        "\n",
        "put_premium = float(input(\"Price of put option in USD: \"))\n",
        "strike_price = float(input(\"Strike price of put option in USD: \"))\n",
        "Y = float(input(\"Number of contracts (1 contract = 100 shares): \"))\n",
        "spot_price = float(input(\"Spot price of each share in USD: \"))\n",
        "\n",
        "if (position == 1):\n",
        "  if (spot_price < strike_price):\n",
        "    gain = Y * 100 * (spot_price - strike_price)\n",
        "    print(\"Exercise the option! You will gain $\" +\n",
        "          str(format(gain, \".2f\")) + \" and your total profit is $\" +\n",
        "          str(format(gain - (Y * put_premium), \".2f\")) + \".\")\n",
        "  else:\n",
        "    print(\"Do not exercise the option! You are left with a total loss of $\" +\n",
        "          str(format((Y * put_premium), \".2f\")) + \" with no gain.\")\n",
        "else:\n",
        "  if (spot_price < strike_price):\n",
        "    gain = Y * 100 * (spot_price - strike_price)\n",
        "    print(\"Exercise the option! You will gain $\" +\n",
        "          str(format(-1 * gain, \".2f\")) + \" and your total profit is $\" +\n",
        "          str(format((Y * put_premium) - gain, \".2f\")) + \".\")\n",
        "  else:\n",
        "    print(\"Do not exercise the option! You are left with a total profit of $\" +\n",
        "          str(format((Y * put_premium), \".2f\")) + \" with no gain.\")"
      ]
    },
    {
      "cell_type": "code",
      "source": [
        "# Call option, choice to sell Y no. of options at strike price K\n",
        "# Given: spot price, strike price, call premium, outputs profit/loss and payoff\n",
        "\n",
        "position = int(input(\"What is your asset position? 1 for long, 0 for short: \"))\n",
        "while (position != 1 and position != 0):\n",
        "  position = float(input(\"Try again, 1 for long, 0 for short: \"))\n",
        "  if (position == 1 or position == 0):\n",
        "    break\n",
        "\n",
        "call_premium = float(input(\"Price of call option in USD: \"))\n",
        "strike_price = float(input(\"Strike price of call option in USD: \"))\n",
        "Y = float(input(\"Number of contracts (1 contract = 100 shares): \"))\n",
        "spot_price = float(input(\"Spot price of each asset in USD: \"))\n",
        "\n",
        "if (position == 1):\n",
        "  if (spot_price > strike_price):\n",
        "    gain = Y * 100 * (spot_price - strike_price)\n",
        "    print(\"Exercise the option! You will gain $\" +\n",
        "          str(format(gain, \".2f\")) +\n",
        "          \" for a total profit of $\" + str(format(gain -\n",
        "           (Y * call_premium), \".2f\")) + \".\")\n",
        "  else:\n",
        "    print(\"Do not exercise the option! You are left with a total loss of $\"\n",
        "            + str(format((Y * call_premium), \".2f\")) + \" with no gain.\")\n",
        "else:\n",
        "  if (spot_price > strike_price):\n",
        "    gain = Y * 100 * (strike_price - spot_price)\n",
        "    print(\"Exercise the option! You will gain $\" +\n",
        "          str(format(-1 * gain, \".2f\") + \" and your total profit is $\" +\n",
        "              str(format((Y * call_premium) - gain, \".2f\")) + \".\"))\n",
        "  else:\n",
        "    print(\"Do not exercise the option! You are left with a total profit of $\" +\n",
        "          str(format((Y * call_premium), \".2f\")) + \" with no gain.\")"
      ],
      "metadata": {
        "id": "7Xfzfr90Vmal",
        "colab": {
          "base_uri": "https://localhost:8080/"
        },
        "outputId": "82d56cc2-c12c-42e1-cd27-2a9e16fabc8c"
      },
      "execution_count": 2,
      "outputs": [
        {
          "output_type": "stream",
          "name": "stdout",
          "text": [
            "What is your asset position? 1 for long, 0 for short: 1\n",
            "Price of call option in USD: 10.36\n",
            "Strike price of call option in USD: 9.23\n",
            "Number of contracts (1 contract = 100 shares): 3\n",
            "Spot price of each asset in USD: 10.68\n",
            "Exercise the option! You will gain $435.00 for a total profit of $403.92.\n"
          ]
        }
      ]
    }
  ]
}